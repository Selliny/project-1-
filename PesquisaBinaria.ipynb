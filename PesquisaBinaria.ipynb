{
  "nbformat": 4,
  "nbformat_minor": 0,
  "metadata": {
    "colab": {
      "provenance": [],
      "authorship_tag": "ABX9TyNHwLMOYdK9JqnbaDL8zX9E",
      "include_colab_link": true
    },
    "kernelspec": {
      "name": "python3",
      "display_name": "Python 3"
    },
    "language_info": {
      "name": "python"
    }
  },
  "cells": [
    {
      "cell_type": "markdown",
      "metadata": {
        "id": "view-in-github",
        "colab_type": "text"
      },
      "source": [
        "<a href=\"https://colab.research.google.com/github/Selliny/project-1-/blob/main/PesquisaBinaria.ipynb\" target=\"_parent\"><img src=\"https://colab.research.google.com/assets/colab-badge.svg\" alt=\"Open In Colab\"/></a>"
      ]
    },
    {
      "cell_type": "code",
      "source": [
        "import random"
      ],
      "metadata": {
        "id": "d8PRrWoNuakP"
      },
      "execution_count": null,
      "outputs": []
    },
    {
      "cell_type": "code",
      "source": [],
      "metadata": {
        "id": "MKHL_UfY0mWf"
      },
      "execution_count": null,
      "outputs": []
    },
    {
      "cell_type": "code",
      "source": [
        "# lista = criar_lista_aleatoria()\n",
        "# print(lista)\n",
        "# ordenar_lista(lista)\n",
        "# print(lista)\n",
        "# lista = criar_lista_balanceada(lista)\n",
        "# print(lista)"
      ],
      "metadata": {
        "id": "46wn-_3MvnNl"
      },
      "execution_count": null,
      "outputs": []
    },
    {
      "cell_type": "code",
      "source": [
        "def ordenar_lista(lista_original):\n",
        "  lista_original.sort()\n",
        "  return lista_original"
      ],
      "metadata": {
        "id": "t-r-MfFLwEOb"
      },
      "execution_count": null,
      "outputs": []
    },
    {
      "cell_type": "code",
      "source": [
        "def inserir_ordenacao_binaria(lista_ordenada, inicio, fim):\n",
        "    if inicio > fim:\n",
        "        return []\n",
        "\n",
        "    posicao_meio = (inicio + fim) // 2\n",
        "\n",
        "    return [lista_ordenada[posicao_meio]] + \\\n",
        "           inserir_ordenacao_binaria(lista_ordenada, inicio, posicao_meio - 1) + \\\n",
        "           inserir_ordenacao_binaria(lista_ordenada, posicao_meio + 1, fim)\n"
      ],
      "metadata": {
        "id": "IT0LZcr_rwDp"
      },
      "execution_count": null,
      "outputs": []
    },
    {
      "cell_type": "code",
      "source": [
        "def criar_lista_balanceada(lista_ordenada):\n",
        "  return inserir_ordenacao_binaria(lista_ordenada, 0, len(lista_ordenada)-1)"
      ],
      "metadata": {
        "id": "AF8R_8h4rj4F"
      },
      "execution_count": null,
      "outputs": []
    },
    {
      "cell_type": "code",
      "source": [
        "arvore = {}  # Começa com a árvore vazia\n",
        "def inserir_valor_arvore(arvore,valor,raiz):\n",
        "  if not arvore:\n",
        "    arvore[valor] = [None, None]\n",
        "    raiz = valor\n",
        "    return raiz\n",
        "  else:\n",
        "    raiz_temp = raiz\n",
        "    while True:\n",
        "      if raiz == valor:\n",
        "        print (f\"o valor {valor} ja esta na arvore\")\n",
        "      elif valor < raiz: #menor\n",
        "        if arvore[raiz][0] is None:\n",
        "          arvore[raiz][0] = valor\n",
        "          arvore[valor] = [None, None]\n",
        "          return raiz_temp\n",
        "        else:\n",
        "          raiz = arvore[raiz][0]\n",
        "      else:\n",
        "        if arvore[raiz][1] is None:\n",
        "          arvore[raiz][1] = valor\n",
        "          arvore[valor] = [None, None]\n",
        "          return raiz_temp\n",
        "        else:\n",
        "          raiz = arvore[raiz][1]"
      ],
      "metadata": {
        "id": "bgHo08QJ5p72"
      },
      "execution_count": null,
      "outputs": []
    },
    {
      "cell_type": "code",
      "source": [
        "def criar_arvore (numeros_insercao):\n",
        "  arvore_gerada = {}\n",
        "\n",
        "  for chave in numeros_insercao:\n",
        "    if not arvore_gerada:\n",
        "      arvore_gerada[chave] = [None, None]\n",
        "      continue\n",
        "\n",
        "def criar_arvore (numeros_insercao):\n",
        "  arvore_gerada = {}\n",
        "\n",
        "  for chave in numeros_insercao:\n",
        "    if not arvore_gerada:\n",
        "      arvore_gerada[chave] = [None, None]\n",
        "      continue\n",
        "\n",
        "    vertice_atual = list(arvore_gerada.keys())[0]\n",
        "\n",
        "    while True:\n",
        "      if chave < vertice_atual:\n",
        "        if arvore_gerada[vertice_atual][0] == None:\n",
        "          arvore_gerada[vertice_atual][0] = chave\n",
        "          arvore_gerada[chave] = [None, None]\n",
        "          break\n",
        "        else:\n",
        "          vertice_atual = arvore_gerada[vertice_atual][0]\n",
        "      elif chave > vertice_atual:\n",
        "        if arvore_gerada[vertice_atual][1] == None:\n",
        "          arvore_gerada[vertice_atual][1] = chave\n",
        "          arvore_gerada[chave] = [None, None]\n",
        "          break\n",
        "        else:\n",
        "          vertice_atual = arvore_gerada[vertice_atual][1]\n",
        "      elif chave == vertice_atual:\n",
        "        print(f\"o valor {chave} ja esta na arvore\")\n",
        "        break\n",
        "  return arvore_gerada"
      ],
      "metadata": {
        "id": "BcGtFlBRoB3p"
      },
      "execution_count": null,
      "outputs": []
    },
    {
      "cell_type": "code",
      "source": [
        "def deletar_valor_arvore(arvore, valor):\n",
        "\n",
        "  if not arvore:\n",
        "    print(\"Erro: a árvore está vazia\")\n",
        "    return arvore\n",
        "\n",
        "  if valor not in arvore:\n",
        "    print(f\"Erro: o valor {valor} não está na árvore\")\n",
        "    return arvore\n",
        "\n",
        "  vertice_atual = next(iter(arvore))\n",
        "  print(vertice_atual)\n",
        "  vertice_anterior = None\n",
        "\n",
        "  while vertice_atual is not None:\n",
        "\n",
        "    if valor == vertice_atual:\n",
        "      if arvore[vertice_atual][0] is None and arvore[vertice_atual][1] is None:\n",
        "\n",
        "        if vertice_atual < vertice_anterior:\n",
        "          arvore[vertice_anterior][0] = None\n",
        "        else:\n",
        "          arvore[vertice_anterior][1] = None\n",
        "\n",
        "        arvore.pop(vertice_atual)\n",
        "        print(\"Sem filhos\")\n",
        "\n",
        "      elif arvore[vertice_atual][0] is not None and arvore[vertice_atual][1] is None:\n",
        "        novo_valor = arvore[vertice_atual][0]\n",
        "        arvore.pop(vertice_atual)\n",
        "\n",
        "        if novo_valor < vertice_anterior:\n",
        "          arvore[vertice_anterior][0] = novo_valor\n",
        "        else:\n",
        "          arvore[vertice_anterior][1] = novo_valor\n",
        "        print(\"Filho a esquerda\")\n",
        "\n",
        "      elif arvore[vertice_atual][1] is not None and arvore[vertice_atual][0] is None:\n",
        "        novo_valor = arvore[vertice_atual][1]\n",
        "        arvore.pop(vertice_atual)\n",
        "\n",
        "        if novo_valor < vertice_anterior:\n",
        "          arvore[vertice_anterior][0] = novo_valor\n",
        "        else:\n",
        "          arvore[vertice_anterior][1] = novo_valor\n",
        "        print(\"Filho a direita\")\n",
        "\n",
        "      else:\n",
        "        pai_sucessor = vertice_atual\n",
        "        sucessor = arvore[vertice_atual][1]\n",
        "\n",
        "        while arvore[sucessor][0] is not None:\n",
        "          pai_sucessor = sucessor\n",
        "          sucessor = arvore[sucessor][0]\n",
        "\n",
        "        if arvore[vertice_atual] < arvore[vertice_anterior]:\n",
        "          arvore[vertice_anterior][0] = sucessor\n",
        "        else:\n",
        "          arvore[vertice_anterior][1] = sucessor\n",
        "\n",
        "        arvore[pai_sucessor][0] = arvore[sucessor][1]\n",
        "        arvore[sucessor] = [arvore[vertice_atual][0], arvore[vertice_atual][1]]\n",
        "\n",
        "        arvore.pop(vertice_atual)\n",
        "      print(f\"Valor {valor} deletado com sucesso\")\n",
        "      return arvore\n",
        "\n",
        "    elif valor < vertice_atual:\n",
        "      vertice_anterior = vertice_atual\n",
        "      vertice_atual = arvore[vertice_atual][0]\n",
        "\n",
        "    else:\n",
        "      vertice_anterior = vertice_atual\n",
        "      vertice_atual = arvore[vertice_atual][1]"
      ],
      "metadata": {
        "id": "Pbvmx8dQJbiM"
      },
      "execution_count": null,
      "outputs": []
    },
    {
      "cell_type": "code",
      "source": [
        "def procurar_valor_arvore(arvore,valor,raiz):\n",
        "  if not arvore:\n",
        "    print (\"erro: a arvore esta vazia\")\n",
        "    return False\n",
        "  vertice_atual = raiz\n",
        "  nivel_atual = 0\n",
        "  while vertice_atual is not None:\n",
        "    nivel_atual += 1\n",
        "    if valor == vertice_atual:\n",
        "      print (f\"o valor {valor} foi encontrado no nivel {nivel_atual}\")\n",
        "      return True\n",
        "    elif valor < vertice_atual:\n",
        "      vertice_atual = arvore[vertice_atual][0]\n",
        "    else:\n",
        "      vertice_atual = arvore[vertice_atual][1]\n",
        "  print (f\"o valor {valor} nao foi encontrado na arvore\")\n",
        "  return False"
      ],
      "metadata": {
        "id": "GX30ui6ku1SA"
      },
      "execution_count": null,
      "outputs": []
    },
    {
      "cell_type": "code",
      "source": [
        "def visualizar_arvore(arvore, raiz, nivel=0):\n",
        "    if raiz is not None:\n",
        "        if arvore[raiz][1] is not None:\n",
        "            visualizar_arvore(arvore, arvore[raiz][1], nivel + 1)\n",
        "        print(' ' * 4 * nivel + '->', raiz)\n",
        "        if arvore[raiz][0] is not None:\n",
        "            visualizar_arvore(arvore, arvore[raiz][0], nivel + 1)"
      ],
      "metadata": {
        "id": "z_I5p9S3qhGx"
      },
      "execution_count": null,
      "outputs": []
    }
  ]
}